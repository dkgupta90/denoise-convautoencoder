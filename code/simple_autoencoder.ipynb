{
 "cells": [
  {
   "cell_type": "code",
   "execution_count": 27,
   "metadata": {},
   "outputs": [],
   "source": [
    "import keras"
   ]
  },
  {
   "cell_type": "code",
   "execution_count": 28,
   "metadata": {},
   "outputs": [],
   "source": [
    "# getting the necessary packages\n",
    "import numpy as np\n",
    "import matplotlib.pyplot as plt\n",
    "import glob"
   ]
  },
  {
   "cell_type": "code",
   "execution_count": 29,
   "metadata": {},
   "outputs": [
    {
     "name": "stdout",
     "output_type": "stream",
     "text": [
      "No. of samples :  44800\n"
     ]
    }
   ],
   "source": [
    "## Get the input and output file lists\n",
    "input_path = '../data/processed/cseg_fault_dyke_fold_model_50_2/input/'\n",
    "output_path = '../data/processed/cseg_fault_dyke_fold_model_50_2/output/'\n",
    "\n",
    "list_of_files_input = glob.glob(input_path + '*')\n",
    "list_of_files_output = glob.glob(output_path + '*')\n",
    "\n",
    "n_images = len(list_of_files_input)\n",
    "print('No. of samples : ', n_images)\n",
    "    "
   ]
  },
  {
   "cell_type": "code",
   "execution_count": 30,
   "metadata": {},
   "outputs": [],
   "source": [
    "# read the data\n",
    "input_data = np.empty([n_images, 50, 50])\n",
    "output_data = np.empty([n_images, 50, 50])\n",
    "count = 0\n",
    "for count in range(n_images):\n",
    "    input_data[count, :, :] = np.load(list_of_files_input[count])\n",
    "    output_data[count, :, :] = np.load(list_of_files_output[count])"
   ]
  },
  {
   "cell_type": "code",
   "execution_count": 31,
   "metadata": {},
   "outputs": [
    {
     "name": "stdout",
     "output_type": "stream",
     "text": [
      "(44800, 50, 50)\n"
     ]
    }
   ],
   "source": [
    "print(output_data.shape)"
   ]
  },
  {
   "cell_type": "code",
   "execution_count": 32,
   "metadata": {},
   "outputs": [
    {
     "name": "stdout",
     "output_type": "stream",
     "text": [
      "2.38685727301228 0.0 1.0 0.0\n"
     ]
    }
   ],
   "source": [
    "# Scaling the data between 0 and 1 based on noise free\n",
    "img_max = np.max(output_data)\n",
    "img_min = np.min(output_data)\n",
    "\n",
    "img_diff = img_max - img_min\n",
    "\n",
    "output_data = (output_data - img_min) / img_diff\n",
    "input_data = (input_data - img_min) / img_diff\n",
    "print(np.max(input_data), np.min(input_data), np.max(output_data), np.min(input_data))"
   ]
  },
  {
   "cell_type": "code",
   "execution_count": 33,
   "metadata": {},
   "outputs": [],
   "source": [
    "import keras\n",
    "from sklearn.model_selection import train_test_split"
   ]
  },
  {
   "cell_type": "code",
   "execution_count": 34,
   "metadata": {},
   "outputs": [
    {
     "data": {
      "text/plain": [
       "<matplotlib.image.AxesImage at 0xed230b8>"
      ]
     },
     "execution_count": 34,
     "metadata": {},
     "output_type": "execute_result"
    },
    {
     "data": {
      "image/png": "[encoded data removed]",
      "text/plain": [
       "<Figure size 432x288 with 1 Axes>"
      ]
     },
     "metadata": {
      "needs_background": "light"
     },
     "output_type": "display_data"
    },
    {
     "data": {
      "image/png": "[encoded data removed]",
      "text/plain": [
       "<Figure size 432x288 with 1 Axes>"
      ]
     },
     "metadata": {
      "needs_background": "light"
     },
     "output_type": "display_data"
    }
   ],
   "source": [
    "# Randomly visualizing a certain sample\n",
    "sample_index = 29\n",
    "f = plt.figure(1)\n",
    "plt.imshow(input_data[sample_index, :, :])\n",
    "g = plt.figure(2)\n",
    "plt.imshow(output_data[sample_index, :, :])"
   ]
  },
  {
   "cell_type": "code",
   "execution_count": 35,
   "metadata": {},
   "outputs": [],
   "source": [
    "# Splitting the data into training and validation sets\n",
    "seed = 10\n",
    "X_train, X_test, Y_train, Y_test = train_test_split(input_data, output_data, test_size = 0.2, random_state = seed)"
   ]
  },
  {
   "cell_type": "code",
   "execution_count": 36,
   "metadata": {},
   "outputs": [],
   "source": [
    "# Writing out the training and test sets\n",
    "write_path = '../data/processed/cseg_fault_dyke_fold_model_50_2/'\n",
    "np.save(write_path + 'X_train.npy', X_train)\n",
    "np.save(write_path + 'X_test.npy', X_test)\n",
    "np.save(write_path + 'Y_train.npy', Y_train)\n",
    "np.save(write_path + 'Y_test.npy', Y_test)"
   ]
  },
  {
   "cell_type": "code",
   "execution_count": 37,
   "metadata": {},
   "outputs": [
    {
     "name": "stdout",
     "output_type": "stream",
     "text": [
      "(35840, 50, 50) (35840, 50, 50) (8960, 50, 50) (8960, 50, 50)\n"
     ]
    }
   ],
   "source": [
    "print(X_train.shape, Y_train.shape, X_test.shape, Y_test.shape)"
   ]
  },
  {
   "cell_type": "code",
   "execution_count": 38,
   "metadata": {},
   "outputs": [],
   "source": [
    "# Creating the convolutional autoencoder\n",
    "from keras import Input, Model\n",
    "from keras.layers import Conv2D, MaxPooling2D, UpSampling2D\n",
    "def design_convolutional_autoencoder():\n",
    "    # Encoding component\n",
    "    inputs = Input(shape = (50, 50, 1))\n",
    "    Z = Conv2D(16, 3, activation = 'relu', padding = 'same')(inputs)\n",
    "    Z = MaxPooling2D(padding = 'same')(Z)\n",
    "    Z = Conv2D(8, 3, activation = 'relu', padding = 'same')(Z)\n",
    "    Z = MaxPooling2D(padding = 'same')(Z)\n",
    "    Z = Conv2D(8, 3, activation = 'relu', padding = 'same')(Z)\n",
    "    encoded = MaxPooling2D(padding='same')(Z)    \n",
    "    \n",
    "    # decoding\n",
    "    Z = Conv2D( 8, 3, activation='relu', padding='same')(encoded)\n",
    "    Z = UpSampling2D()(Z)\n",
    "    Z = Conv2D( 8, 3, activation='relu', padding='same')(Z)\n",
    "    Z = UpSampling2D()(Z)\n",
    "    Z = Conv2D(16, 3, activation='relu')(Z) # <= padding='valid'!\n",
    "    Z = UpSampling2D()(Z)\n",
    "    decoded = Conv2D(1, 3, activation='sigmoid', padding='valid')(Z)\n",
    "    \n",
    "    autoencoder = Model(inputs, decoded)\n",
    "    autoencoder.compile(optimizer = 'adam', loss = 'mean_squared_error')\n",
    "    return autoencoder\n",
    "\n",
    "# creating the autoencoder\n",
    "autoencoder = design_convolutional_autoencoder()\n",
    "    "
   ]
  },
  {
   "cell_type": "code",
   "execution_count": 39,
   "metadata": {},
   "outputs": [
    {
     "name": "stdout",
     "output_type": "stream",
     "text": [
      "_________________________________________________________________\n",
      "Layer (type)                 Output Shape              Param #   \n",
      "=================================================================\n",
      "input_1 (InputLayer)         (None, 50, 50, 1)         0         \n",
      "_________________________________________________________________\n",
      "conv2d_1 (Conv2D)            (None, 50, 50, 16)        160       \n",
      "_________________________________________________________________\n",
      "max_pooling2d_1 (MaxPooling2 (None, 25, 25, 16)        0         \n",
      "_________________________________________________________________\n",
      "conv2d_2 (Conv2D)            (None, 25, 25, 8)         1160      \n",
      "_________________________________________________________________\n",
      "max_pooling2d_2 (MaxPooling2 (None, 13, 13, 8)         0         \n",
      "_________________________________________________________________\n",
      "conv2d_3 (Conv2D)            (None, 13, 13, 8)         584       \n",
      "_________________________________________________________________\n",
      "max_pooling2d_3 (MaxPooling2 (None, 7, 7, 8)           0         \n",
      "_________________________________________________________________\n",
      "conv2d_4 (Conv2D)            (None, 7, 7, 8)           584       \n",
      "_________________________________________________________________\n",
      "up_sampling2d_1 (UpSampling2 (None, 14, 14, 8)         0         \n",
      "_________________________________________________________________\n",
      "conv2d_5 (Conv2D)            (None, 14, 14, 8)         584       \n",
      "_________________________________________________________________\n",
      "up_sampling2d_2 (UpSampling2 (None, 28, 28, 8)         0         \n",
      "_________________________________________________________________\n",
      "conv2d_6 (Conv2D)            (None, 26, 26, 16)        1168      \n",
      "_________________________________________________________________\n",
      "up_sampling2d_3 (UpSampling2 (None, 52, 52, 16)        0         \n",
      "_________________________________________________________________\n",
      "conv2d_7 (Conv2D)            (None, 50, 50, 1)         145       \n",
      "=================================================================\n",
      "Total params: 4,385\n",
      "Trainable params: 4,385\n",
      "Non-trainable params: 0\n",
      "_________________________________________________________________\n",
      "None\n"
     ]
    }
   ],
   "source": [
    "print(autoencoder.summary())"
   ]
  },
  {
   "cell_type": "code",
   "execution_count": 40,
   "metadata": {},
   "outputs": [],
   "source": [
    "# Expanding dimensions of data\n",
    "X_train1 = np.expand_dims(X_train, axis = 3)\n",
    "X_test1 = np.expand_dims(X_test, axis = 3)\n",
    "Y_train1 = np.expand_dims(Y_train, axis = 3)\n",
    "Y_test1 = np.expand_dims(Y_test, axis = 3)"
   ]
  },
  {
   "cell_type": "code",
   "execution_count": 41,
   "metadata": {},
   "outputs": [
    {
     "data": {
      "text/plain": [
       "0"
      ]
     },
     "execution_count": 41,
     "metadata": {},
     "output_type": "execute_result"
    }
   ],
   "source": [
    "np.sum(np.isnan(X_train1))"
   ]
  },
  {
   "cell_type": "code",
   "execution_count": 42,
   "metadata": {},
   "outputs": [
    {
     "name": "stdout",
     "output_type": "stream",
     "text": [
      "Train on 35840 samples, validate on 8960 samples\n",
      "Epoch 1/100\n",
      "35840/35840 [==============================] - 177s 5ms/step - loss: 0.0402 - val_loss: 0.0167\n",
      "Epoch 2/100\n",
      "35840/35840 [==============================] - 180s 5ms/step - loss: 0.0139 - val_loss: 0.0122\n",
      "Epoch 3/100\n",
      "35840/35840 [==============================] - 177s 5ms/step - loss: 0.0107 - val_loss: 0.0097\n",
      "Epoch 4/100\n",
      "35840/35840 [==============================] - 177s 5ms/step - loss: 0.0090 - val_loss: 0.0086\n",
      "Epoch 5/100\n",
      "35840/35840 [==============================] - 185s 5ms/step - loss: 0.0082 - val_loss: 0.0080\n",
      "Epoch 6/100\n",
      "35840/35840 [==============================] - 177s 5ms/step - loss: 0.0076 - val_loss: 0.0074\n",
      "Epoch 7/100\n",
      "35840/35840 [==============================] - 182s 5ms/step - loss: 0.0072 - val_loss: 0.0071\n",
      "Epoch 8/100\n",
      "35840/35840 [==============================] - 233s 7ms/step - loss: 0.0069 - val_loss: 0.0069\n",
      "Epoch 9/100\n",
      "35840/35840 [==============================] - 209s 6ms/step - loss: 0.0067 - val_loss: 0.0066\n",
      "Epoch 10/100\n",
      "35840/35840 [==============================] - 183s 5ms/step - loss: 0.0065 - val_loss: 0.0064\n",
      "Epoch 11/100\n",
      "35840/35840 [==============================] - 179s 5ms/step - loss: 0.0063 - val_loss: 0.0062\n",
      "Epoch 12/100\n",
      "35840/35840 [==============================] - 178s 5ms/step - loss: 0.0061 - val_loss: 0.0060\n",
      "Epoch 13/100\n",
      "35840/35840 [==============================] - 179s 5ms/step - loss: 0.0059 - val_loss: 0.0059\n",
      "Epoch 14/100\n",
      "35840/35840 [==============================] - 178s 5ms/step - loss: 0.0058 - val_loss: 0.0058\n",
      "Epoch 15/100\n",
      "35840/35840 [==============================] - 177s 5ms/step - loss: 0.0057 - val_loss: 0.0057\n",
      "Epoch 16/100\n",
      "35840/35840 [==============================] - 179s 5ms/step - loss: 0.0056 - val_loss: 0.0056\n",
      "Epoch 17/100\n",
      "35840/35840 [==============================] - 189s 5ms/step - loss: 0.0055 - val_loss: 0.0056\n",
      "Epoch 18/100\n",
      "35840/35840 [==============================] - 180s 5ms/step - loss: 0.0055 - val_loss: 0.0055\n",
      "Epoch 19/100\n",
      "35840/35840 [==============================] - 178s 5ms/step - loss: 0.0054 - val_loss: 0.0055\n",
      "Epoch 20/100\n",
      "35840/35840 [==============================] - 178s 5ms/step - loss: 0.0053 - val_loss: 0.0053\n",
      "Epoch 21/100\n",
      "35840/35840 [==============================] - 178s 5ms/step - loss: 0.0052 - val_loss: 0.0052\n",
      "Epoch 22/100\n",
      "35840/35840 [==============================] - 180s 5ms/step - loss: 0.0052 - val_loss: 0.0052\n",
      "Epoch 23/100\n",
      "35840/35840 [==============================] - 182s 5ms/step - loss: 0.0051 - val_loss: 0.0051\n",
      "Epoch 24/100\n",
      "35840/35840 [==============================] - 181s 5ms/step - loss: 0.0050 - val_loss: 0.0051\n",
      "Epoch 25/100\n",
      "35840/35840 [==============================] - 178s 5ms/step - loss: 0.0050 - val_loss: 0.0050\n",
      "Epoch 26/100\n",
      "35840/35840 [==============================] - 178s 5ms/step - loss: 0.0049 - val_loss: 0.0050\n",
      "Epoch 27/100\n",
      "35840/35840 [==============================] - 180s 5ms/step - loss: 0.0049 - val_loss: 0.0048\n",
      "Epoch 28/100\n",
      "35840/35840 [==============================] - 179s 5ms/step - loss: 0.0048 - val_loss: 0.0049\n",
      "Epoch 29/100\n",
      "35840/35840 [==============================] - 178s 5ms/step - loss: 0.0048 - val_loss: 0.0048\n",
      "Epoch 30/100\n",
      "35840/35840 [==============================] - 178s 5ms/step - loss: 0.0047 - val_loss: 0.0047\n",
      "Epoch 31/100\n",
      "35840/35840 [==============================] - 178s 5ms/step - loss: 0.0047 - val_loss: 0.0048\n",
      "Epoch 32/100\n",
      "35840/35840 [==============================] - 178s 5ms/step - loss: 0.0046 - val_loss: 0.0047\n",
      "Epoch 33/100\n",
      "35840/35840 [==============================] - 178s 5ms/step - loss: 0.0046 - val_loss: 0.0046\n",
      "Epoch 34/100\n",
      "35840/35840 [==============================] - 178s 5ms/step - loss: 0.0046 - val_loss: 0.0045\n",
      "Epoch 35/100\n",
      "35840/35840 [==============================] - 179s 5ms/step - loss: 0.0045 - val_loss: 0.0045\n",
      "Epoch 36/100\n",
      "35840/35840 [==============================] - 177s 5ms/step - loss: 0.0045 - val_loss: 0.0045\n",
      "Epoch 37/100\n",
      "35840/35840 [==============================] - 177s 5ms/step - loss: 0.0044 - val_loss: 0.0045\n",
      "Epoch 38/100\n",
      "35840/35840 [==============================] - 178s 5ms/step - loss: 0.0044 - val_loss: 0.0044\n",
      "Epoch 39/100\n",
      "35840/35840 [==============================] - 176s 5ms/step - loss: 0.0044 - val_loss: 0.0044\n",
      "Epoch 40/100\n",
      "35840/35840 [==============================] - 176s 5ms/step - loss: 0.0043 - val_loss: 0.0043\n",
      "Epoch 41/100\n",
      "35840/35840 [==============================] - 176s 5ms/step - loss: 0.0043 - val_loss: 0.0043\n",
      "Epoch 42/100\n",
      "35840/35840 [==============================] - 178s 5ms/step - loss: 0.0043 - val_loss: 0.0043\n",
      "Epoch 43/100\n",
      "35840/35840 [==============================] - 176s 5ms/step - loss: 0.0043 - val_loss: 0.0043\n",
      "Epoch 44/100\n",
      "35840/35840 [==============================] - 176s 5ms/step - loss: 0.0042 - val_loss: 0.0043\n",
      "Epoch 45/100\n",
      "35840/35840 [==============================] - 176s 5ms/step - loss: 0.0042 - val_loss: 0.0042\n",
      "Epoch 46/100\n",
      "35840/35840 [==============================] - 176s 5ms/step - loss: 0.0042 - val_loss: 0.0042\n",
      "Epoch 47/100\n",
      "35840/35840 [==============================] - 176s 5ms/step - loss: 0.0042 - val_loss: 0.0042\n",
      "Epoch 48/100\n",
      "35840/35840 [==============================] - 176s 5ms/step - loss: 0.0041 - val_loss: 0.0042\n",
      "Epoch 49/100\n",
      "35840/35840 [==============================] - 188s 5ms/step - loss: 0.0041 - val_loss: 0.0041\n",
      "Epoch 50/100\n",
      "35840/35840 [==============================] - 185s 5ms/step - loss: 0.0041 - val_loss: 0.0041\n",
      "Epoch 51/100\n",
      "35840/35840 [==============================] - 187s 5ms/step - loss: 0.0041 - val_loss: 0.0041\n",
      "Epoch 52/100\n",
      "35840/35840 [==============================] - 185s 5ms/step - loss: 0.0041 - val_loss: 0.0041\n",
      "Epoch 53/100\n",
      "35840/35840 [==============================] - 181s 5ms/step - loss: 0.0040 - val_loss: 0.0041\n",
      "Epoch 54/100\n",
      "35840/35840 [==============================] - 186s 5ms/step - loss: 0.0040 - val_loss: 0.0040\n",
      "Epoch 55/100\n",
      "35840/35840 [==============================] - 178s 5ms/step - loss: 0.0040 - val_loss: 0.0040\n",
      "Epoch 56/100\n",
      "35840/35840 [==============================] - 178s 5ms/step - loss: 0.0040 - val_loss: 0.0040\n",
      "Epoch 57/100\n",
      "35840/35840 [==============================] - 180s 5ms/step - loss: 0.0040 - val_loss: 0.0040\n",
      "Epoch 58/100\n",
      "35840/35840 [==============================] - 4277s 119ms/step - loss: 0.0040 - val_loss: 0.0040\n",
      "Epoch 59/100\n",
      "35840/35840 [==============================] - 214s 6ms/step - loss: 0.0040 - val_loss: 0.0040\n",
      "Epoch 60/100\n",
      "35840/35840 [==============================] - 199s 6ms/step - loss: 0.0039 - val_loss: 0.0041\n",
      "Epoch 61/100\n",
      "35840/35840 [==============================] - 201s 6ms/step - loss: 0.0039 - val_loss: 0.0039\n",
      "Epoch 62/100\n",
      "35840/35840 [==============================] - 208s 6ms/step - loss: 0.0039 - val_loss: 0.0039\n",
      "Epoch 63/100\n",
      "35840/35840 [==============================] - 217s 6ms/step - loss: 0.0039 - val_loss: 0.0039\n",
      "Epoch 64/100\n",
      "35840/35840 [==============================] - 216s 6ms/step - loss: 0.0039 - val_loss: 0.0039\n",
      "Epoch 65/100\n",
      "35840/35840 [==============================] - 221s 6ms/step - loss: 0.0039 - val_loss: 0.0039\n",
      "Epoch 66/100\n",
      "35840/35840 [==============================] - 219s 6ms/step - loss: 0.0038 - val_loss: 0.0039\n",
      "Epoch 67/100\n",
      "35840/35840 [==============================] - 211s 6ms/step - loss: 0.0038 - val_loss: 0.0039\n",
      "Epoch 68/100\n",
      "35840/35840 [==============================] - 206s 6ms/step - loss: 0.0038 - val_loss: 0.0039\n",
      "Epoch 69/100\n",
      "35840/35840 [==============================] - 204s 6ms/step - loss: 0.0038 - val_loss: 0.0038\n",
      "Epoch 70/100\n",
      "35840/35840 [==============================] - 196s 5ms/step - loss: 0.0038 - val_loss: 0.0038\n",
      "Epoch 71/100\n",
      "35840/35840 [==============================] - 186s 5ms/step - loss: 0.0038 - val_loss: 0.0038\n",
      "Epoch 72/100\n",
      "35840/35840 [==============================] - 184s 5ms/step - loss: 0.0038 - val_loss: 0.0038\n",
      "Epoch 73/100\n",
      "35840/35840 [==============================] - 184s 5ms/step - loss: 0.0038 - val_loss: 0.0038\n",
      "Epoch 74/100\n",
      "35840/35840 [==============================] - 184s 5ms/step - loss: 0.0038 - val_loss: 0.0038\n",
      "Epoch 75/100\n",
      "35840/35840 [==============================] - 183s 5ms/step - loss: 0.0038 - val_loss: 0.0038\n",
      "Epoch 76/100\n"
     ]
    },
    {
     "name": "stdout",
     "output_type": "stream",
     "text": [
      "35840/35840 [==============================] - 183s 5ms/step - loss: 0.0038 - val_loss: 0.0038\n",
      "Epoch 77/100\n",
      "35840/35840 [==============================] - 183s 5ms/step - loss: 0.0037 - val_loss: 0.0038\n",
      "Epoch 78/100\n",
      "35840/35840 [==============================] - 184s 5ms/step - loss: 0.0037 - val_loss: 0.0037\n",
      "Epoch 79/100\n",
      "35840/35840 [==============================] - 181s 5ms/step - loss: 0.0037 - val_loss: 0.0038\n",
      "Epoch 80/100\n",
      "35840/35840 [==============================] - 182s 5ms/step - loss: 0.0037 - val_loss: 0.0037\n",
      "Epoch 81/100\n",
      "35840/35840 [==============================] - 184s 5ms/step - loss: 0.0037 - val_loss: 0.0037\n",
      "Epoch 82/100\n",
      "35840/35840 [==============================] - 183s 5ms/step - loss: 0.0037 - val_loss: 0.0039\n",
      "Epoch 83/100\n",
      "35840/35840 [==============================] - 183s 5ms/step - loss: 0.0037 - val_loss: 0.0037\n",
      "Epoch 84/100\n",
      "35840/35840 [==============================] - 190s 5ms/step - loss: 0.0037 - val_loss: 0.0037\n",
      "Epoch 85/100\n",
      "35840/35840 [==============================] - 202s 6ms/step - loss: 0.0037 - val_loss: 0.0037\n",
      "Epoch 86/100\n",
      "35840/35840 [==============================] - 190s 5ms/step - loss: 0.0037 - val_loss: 0.0038\n",
      "Epoch 87/100\n",
      "35840/35840 [==============================] - 200s 6ms/step - loss: 0.0036 - val_loss: 0.0037\n",
      "Epoch 88/100\n",
      "35840/35840 [==============================] - 204s 6ms/step - loss: 0.0036 - val_loss: 0.0037\n",
      "Epoch 89/100\n",
      "35840/35840 [==============================] - 200s 6ms/step - loss: 0.0036 - val_loss: 0.0036\n",
      "Epoch 90/100\n",
      "35840/35840 [==============================] - 191s 5ms/step - loss: 0.0036 - val_loss: 0.0036\n",
      "Epoch 91/100\n",
      "35840/35840 [==============================] - 193s 5ms/step - loss: 0.0036 - val_loss: 0.0038\n",
      "Epoch 92/100\n",
      "35840/35840 [==============================] - 194s 5ms/step - loss: 0.0036 - val_loss: 0.0036\n",
      "Epoch 93/100\n",
      "35840/35840 [==============================] - 188s 5ms/step - loss: 0.0036 - val_loss: 0.0039\n",
      "Epoch 94/100\n",
      "35840/35840 [==============================] - 186s 5ms/step - loss: 0.0036 - val_loss: 0.0037\n",
      "Epoch 95/100\n",
      "35840/35840 [==============================] - 194s 5ms/step - loss: 0.0036 - val_loss: 0.0036\n",
      "Epoch 96/100\n",
      "35840/35840 [==============================] - 191s 5ms/step - loss: 0.0036 - val_loss: 0.0036\n",
      "Epoch 97/100\n",
      "35840/35840 [==============================] - 195s 5ms/step - loss: 0.0036 - val_loss: 0.0036\n",
      "Epoch 98/100\n",
      "35840/35840 [==============================] - 188s 5ms/step - loss: 0.0036 - val_loss: 0.0037\n",
      "Epoch 99/100\n",
      "35840/35840 [==============================] - 186s 5ms/step - loss: 0.0036 - val_loss: 0.0036\n",
      "Epoch 100/100\n",
      "35840/35840 [==============================] - 185s 5ms/step - loss: 0.0035 - val_loss: 0.0036\n"
     ]
    },
    {
     "data": {
      "text/plain": [
       "<keras.callbacks.History at 0xed31908>"
      ]
     },
     "execution_count": 42,
     "metadata": {},
     "output_type": "execute_result"
    }
   ],
   "source": [
    "# training the autoecoder model\n",
    "autoencoder.fit(X_train1, Y_train1, epochs = 100, batch_size=200, validation_data=(X_test1, Y_test1))"
   ]
  },
  {
   "cell_type": "code",
   "execution_count": 23,
   "metadata": {},
   "outputs": [
    {
     "name": "stdout",
     "output_type": "stream",
     "text": [
      "0.0\n"
     ]
    }
   ],
   "source": [
    "print(np.min(input_data))"
   ]
  },
  {
   "cell_type": "code",
   "execution_count": 24,
   "metadata": {},
   "outputs": [
    {
     "name": "stdout",
     "output_type": "stream",
     "text": [
      "0.0\n"
     ]
    }
   ],
   "source": [
    "print(np.min(output_data))"
   ]
  },
  {
   "cell_type": "code",
   "execution_count": 45,
   "metadata": {},
   "outputs": [],
   "source": [
    "Y_predicted = autoencoder.predict(X_test1)"
   ]
  },
  {
   "cell_type": "code",
   "execution_count": 49,
   "metadata": {
    "scrolled": false
   },
   "outputs": [
    {
     "name": "stdout",
     "output_type": "stream",
     "text": [
      "0.0 1.8738730553952556\n",
      "0.0 1.0\n",
      "0.001577646 1.0\n"
     ]
    },
    {
     "data": {
      "image/png": "[encoded data removed]",
      "text/plain": [
       "<Figure size 1080x1080 with 3 Axes>"
      ]
     },
     "metadata": {},
     "output_type": "display_data"
    }
   ],
   "source": [
    "# Randomly visualizing a certain sample\n",
    "sample_index = 3\n",
    "\n",
    "fig, axs = plt.subplots(ncols = 3, figsize = (15, 15))\n",
    "plt.set_cmap('gray')\n",
    "axs[0].imshow(X_test1[sample_index, :, :, 0])\n",
    "axs[1].imshow(Y_test1[sample_index, :, :, 0])\n",
    "axs[2].imshow(Y_predicted[sample_index, :, :, 0])\n",
    "\n",
    "# Removing the ticks\n",
    "for ax in axs:\n",
    "    ax.set_xticks([])\n",
    "    ax.set_yticks([])\n",
    "\n",
    "print(np.min(X_test1[sample_index, :, :, 0]), np.max(X_test1[sample_index, :, :, 0]))\n",
    "print(np.min(Y_test1[sample_index, :, :, 0]), np.max(Y_test1[sample_index, :, :, 0]))\n",
    "print(np.min(Y_predicted[sample_index, :, :, 0]), np.max(Y_predicted[sample_index, :, :, 0]))"
   ]
  },
  {
   "cell_type": "code",
   "execution_count": 32,
   "metadata": {},
   "outputs": [
    {
     "name": "stdout",
     "output_type": "stream",
     "text": [
      "Saved model to disk\n"
     ]
    }
   ],
   "source": [
    "## serialize model to JSON\n",
    "model_json = autoencoder.to_json()\n",
    "with open(\"model_1.json\", \"w\") as json_file:\n",
    "    json_file.write(model_json)\n",
    "# serialize weights to HDF5\n",
    "autoencoder.save_weights(\"model_1.h5\")\n",
    "print(\"Saved model to disk\")"
   ]
  },
  {
   "cell_type": "code",
   "execution_count": 7,
   "metadata": {},
   "outputs": [],
   "source": []
  },
  {
   "cell_type": "code",
   "execution_count": null,
   "metadata": {},
   "outputs": [],
   "source": []
  }
 ],
 "metadata": {
  "kernelspec": {
   "display_name": "Python 3",
   "language": "python",
   "name": "python3"
  },
  "language_info": {
   "codemirror_mode": {
    "name": "ipython",
    "version": 3
   },
   "file_extension": ".py",
   "mimetype": "text/x-python",
   "name": "python",
   "nbconvert_exporter": "python",
   "pygments_lexer": "ipython3",
   "version": "3.5.6"
  }
 },
 "nbformat": 4,
 "nbformat_minor": 2
}
